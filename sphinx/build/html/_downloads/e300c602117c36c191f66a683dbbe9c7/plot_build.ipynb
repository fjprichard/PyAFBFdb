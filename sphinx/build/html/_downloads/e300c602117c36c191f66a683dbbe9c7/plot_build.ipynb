{
  "cells": [
    {
      "cell_type": "code",
      "execution_count": null,
      "metadata": {
        "collapsed": false
      },
      "outputs": [],
      "source": [
        "%matplotlib inline"
      ]
    },
    {
      "cell_type": "markdown",
      "metadata": {},
      "source": [
        "\n# Build a database using a predefined protocol\n\n.. codeauthor:: Fr\u00e9d\u00e9ric Richard <frederic.richard_at_univ-amu.fr>\n"
      ]
    },
    {
      "cell_type": "code",
      "execution_count": null,
      "metadata": {
        "collapsed": false
      },
      "outputs": [],
      "source": [
        "from afbfdb.Protocol import Protocol_001\n\n# directory to save examples.\nhome_dir = \"../data/\"\ndata_dir = home_dir + \"TestSet/\"\n\nN = 512  # image size\nfirst_example = 0\nlast_example = 9  # index of the last example.\n_save = True  # true if examples are to be saved.\n_display = False  # true if examples are to be displayed.\n\n# Set the protocol.\nsimu = Protocol_001(data_dir, N=N)\n# Simulate fields.\nsimu.SimulateFields(_save=_save, _display=_display,\n                    expe_start=first_example, expe_end=last_example)\n# Show an example.\nsimu.ShowExample(2)"
      ]
    }
  ],
  "metadata": {
    "kernelspec": {
      "display_name": "Python 3",
      "language": "python",
      "name": "python3"
    },
    "language_info": {
      "codemirror_mode": {
        "name": "ipython",
        "version": 3
      },
      "file_extension": ".py",
      "mimetype": "text/x-python",
      "name": "python",
      "nbconvert_exporter": "python",
      "pygments_lexer": "ipython3",
      "version": "3.9.12"
    }
  },
  "nbformat": 4,
  "nbformat_minor": 0
}