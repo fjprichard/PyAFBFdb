{
  "cells": [
    {
      "cell_type": "code",
      "execution_count": null,
      "metadata": {
        "collapsed": false
      },
      "outputs": [],
      "source": [
        "%matplotlib inline"
      ]
    },
    {
      "cell_type": "markdown",
      "metadata": {},
      "source": [
        "\n# Export the data.\n\n.. codeauthor:: Fr\u00e9d\u00e9ric Richard <frederic.richard_at_univ-amu.fr>\n"
      ]
    },
    {
      "cell_type": "code",
      "execution_count": null,
      "metadata": {
        "collapsed": false
      },
      "outputs": [],
      "source": [
        "# Import a simulation protocol.\nfrom afbfdb import protocol\nfrom matplotlib import pyplot as plt\nfrom numpy import zeros, concatenate, savetxt, uint16, amin, amax, arange\nfrom imageio.v2 import imsave\nimport os\n\n# directory to save examples.\nhome_dir = \"../data/\"\ndata_dir = home_dir + \"SimulationSet_001/\"\ndata_out = home_dir + \"SimulationSet_001-export/\"\n\n# Load the protocol.\nsimu = protocol(data_dir)\nn = simu.nbexpe\nsimu.ShowExample(7)\n# Export the data in a numpy array format.\nimages, features = simu.ExportData(0, n-1)\n# Show an image and its features.\nplt.figure()\nplt.imshow(images[7, :, :], cmap=\"gray\")\nplt.show()\nprint(\"Exported features:\")\nprint(features[7, :])\n\nif os.path.isdir(data_out) is False:\n    os.mkdir(data_out)\n# Export features in csv format.\nfeatures = concatenate((arange(0, n).reshape((n, 1)), features), axis=1)\nheader = 'example number, Hurst index, argmin set length, argmin set center'\nsavetxt(data_out + 'features.csv', features, delimiter=',', header=header)\n\n\n# Export images in png format.\nm = images.shape[1:]\nglmax = 2**16 - 1\nimage = zeros(m, dtype=uint16)\nfor expe in range(n):\n    ide = simu.SetExampleNumberStr(expe)\n    # Conversion of the image into uint16 by normalization.\n    immin = amin(images[expe, :, :])\n    immax = amax(images[expe, :, :])\n    imrange = immax - immin\n    image[:, :] = (images[expe, :, :] - immin) / imrange * glmax\n    # Save the image.\n    imsave(data_out + \"image-\" + ide + \".png\", image)"
      ]
    }
  ],
  "metadata": {
    "kernelspec": {
      "display_name": "Python 3",
      "language": "python",
      "name": "python3"
    },
    "language_info": {
      "codemirror_mode": {
        "name": "ipython",
        "version": 3
      },
      "file_extension": ".py",
      "mimetype": "text/x-python",
      "name": "python",
      "nbconvert_exporter": "python",
      "pygments_lexer": "ipython3",
      "version": "3.9.12"
    }
  },
  "nbformat": 4,
  "nbformat_minor": 0
}